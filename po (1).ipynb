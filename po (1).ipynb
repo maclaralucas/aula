{
  "nbformat": 4,
  "nbformat_minor": 0,
  "metadata": {
    "colab": {
      "provenance": []
    },
    "kernelspec": {
      "name": "python3",
      "display_name": "Python 3"
    },
    "language_info": {
      "name": "python"
    }
  },
  "cells": [
    {
      "cell_type": "code",
      "execution_count": 76,
      "metadata": {
        "colab": {
          "base_uri": "https://localhost:8080/"
        },
        "id": "4494K1yo4Rfb",
        "outputId": "cdca4e8e-9fe8-4f0e-fe0e-a437fd01c595"
      },
      "outputs": [
        {
          "output_type": "execute_result",
          "data": {
            "text/plain": [
              "{'coord': {'lon': -50.2261, 'lat': -20.6439},\n",
              " 'weather': [{'id': 804,\n",
              "   'main': 'Clouds',\n",
              "   'description': 'overcast clouds',\n",
              "   'icon': '04d'}],\n",
              " 'base': 'stations',\n",
              " 'main': {'temp': 297.79,\n",
              "  'feels_like': 297.88,\n",
              "  'temp_min': 297.79,\n",
              "  'temp_max': 297.79,\n",
              "  'pressure': 1011,\n",
              "  'humidity': 60,\n",
              "  'sea_level': 1011,\n",
              "  'grnd_level': 955},\n",
              " 'visibility': 10000,\n",
              " 'wind': {'speed': 4.03, 'deg': 226, 'gust': 5.06},\n",
              " 'clouds': {'all': 97},\n",
              " 'dt': 1681918729,\n",
              " 'sys': {'country': 'BR', 'sunrise': 1681896794, 'sunset': 1681938391},\n",
              " 'timezone': -10800,\n",
              " 'id': 3458143,\n",
              " 'name': 'Magda',\n",
              " 'cod': 200}"
            ]
          },
          "metadata": {},
          "execution_count": 76
        }
      ],
      "source": [
        "import requests \n",
        "ma= requests.get('https://api.openweathermap.org/data/2.5/weather?q=Magda&appid=25030effe63c37fc8e8f991272b59e4f')\n",
        "ma.json()\n",
        "\n",
        "\n"
      ]
    },
    {
      "cell_type": "code",
      "source": [
        "maria = ma.json()\n",
        "descricao = print('Descrição:', maria['weather'][0]['description'])\n",
        "temperatura = print('Temperatura:', maria['main']['temp'])\n",
        "\n",
        "\n",
        "\n"
      ],
      "metadata": {
        "colab": {
          "base_uri": "https://localhost:8080/"
        },
        "id": "EnTnHm0LCcTH",
        "outputId": "fe46c4a7-1de9-4bfa-f57b-837a4bf971e0"
      },
      "execution_count": 74,
      "outputs": [
        {
          "output_type": "stream",
          "name": "stdout",
          "text": [
            "Descrição: overcast clouds\n",
            "Temperatura: 296.86\n"
          ]
        }
      ]
    }
  ]
}